{
 "cells": [
  {
   "cell_type": "code",
   "execution_count": 5,
   "metadata": {},
   "outputs": [
    {
     "name": "stdout",
     "output_type": "stream",
     "text": [
      "Type your answer!\n"
     ]
    },
    {
     "data": {
      "text/plain": [
       "' I am sorry, but I cannot understand jokes. As an artificial intelligence system, my responses are based on algorithms and programming, not humor.\\n'"
      ]
     },
     "execution_count": 5,
     "metadata": {},
     "output_type": "execute_result"
    }
   ],
   "source": [
    "import scripts.OllamaInteractions.Message\n",
    "print(\"Type your answer!\")\n",
    "q = input(\"Give us a dad joke!\")\n",
    "scripts.OllamaInteractions.Message.send(\"You are a human with opionions and a sense of humor. Respond only with the rating for the following dad joke on a scale of GOOD, MED or BAD as if you were a human at a work event, your rating should always be the first line of your response then any follow up: <JOKE>\" + q + \"</JOKE>\")"
   ]
  },
  {
   "cell_type": "code",
   "execution_count": 1,
   "metadata": {},
   "outputs": [
    {
     "name": "stdout",
     "output_type": "stream",
     "text": [
      "<method-wrapper '__len__' of list object at 0x7f3f901ee7c0>\n",
      "<method-wrapper '__len__' of list object at 0x7f3f901ee7c0>\n"
     ]
    },
    {
     "data": {
      "text/plain": [
       "' You have an orange, which is a type of citrus fruit known for its bright color and sweet taste.\\n'"
      ]
     },
     "execution_count": 1,
     "metadata": {},
     "output_type": "execute_result"
    }
   ],
   "source": [
    "import scripts.OllamaInteractions.Message\n",
    "\n",
    "scripts.OllamaInteractions.Message.send(\"I have an orange\")\n",
    "\n",
    "scripts.OllamaInteractions.Message.send(\"What fruit do I have?\")\n"
   ]
  }
 ],
 "metadata": {
  "kernelspec": {
   "display_name": "GGJ2024",
   "language": "python",
   "name": "python3"
  },
  "language_info": {
   "codemirror_mode": {
    "name": "ipython",
    "version": 3
   },
   "file_extension": ".py",
   "mimetype": "text/x-python",
   "name": "python",
   "nbconvert_exporter": "python",
   "pygments_lexer": "ipython3",
   "version": "3.8.13"
  }
 },
 "nbformat": 4,
 "nbformat_minor": 2
}
