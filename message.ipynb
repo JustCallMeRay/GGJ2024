{
 "cells": [
  {
   "cell_type": "code",
   "execution_count": 6,
   "metadata": {},
   "outputs": [
    {
     "name": "stdout",
     "output_type": "stream",
     "text": [
      " What is the total number of canines on the planet?\n",
      "\n"
     ]
    },
    {
     "data": {
      "text/plain": [
       "' What is the total number of canines on the planet?\\n'"
      ]
     },
     "execution_count": 6,
     "metadata": {},
     "output_type": "execute_result"
    }
   ],
   "source": [
    "import scripts.OllamaInteractions.Message\n",
    "\n",
    "scripts.OllamaInteractions.Message.send(\"How many dogs are there in the world?\")"
   ]
  }
 ],
 "metadata": {
  "kernelspec": {
   "display_name": "GGJ2024",
   "language": "python",
   "name": "python3"
  },
  "language_info": {
   "codemirror_mode": {
    "name": "ipython",
    "version": 3
   },
   "file_extension": ".py",
   "mimetype": "text/x-python",
   "name": "python",
   "nbconvert_exporter": "python",
   "pygments_lexer": "ipython3",
   "version": "3.8.13"
  }
 },
 "nbformat": 4,
 "nbformat_minor": 2
}
